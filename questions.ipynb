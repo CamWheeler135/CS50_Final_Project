{
 "cells": [
  {
   "cell_type": "markdown",
   "metadata": {},
   "source": [
    "''' Tests and Small Experiments of questions I have ''"
   ]
  },
  {
   "cell_type": "code",
   "execution_count": null,
   "metadata": {},
   "outputs": [],
   "source": [
    "# Imports\n",
    "import numpy as np"
   ]
  },
  {
   "cell_type": "code",
   "execution_count": 9,
   "metadata": {},
   "outputs": [],
   "source": [
    "# Testing np.nonzero function\n",
    "array = np.array([1, 2, 3])\n",
    "non_zero = np.nonzero(array)\n",
    "\n",
    "zero_array = np.array([0,0,0])\n",
    "zero = np.nonzero(zero_array)\n",
    "# print(len(non_zero[0]))\n",
    "# print(len(zero[0]))"
   ]
  },
  {
   "cell_type": "code",
   "execution_count": 16,
   "metadata": {},
   "outputs": [
    {
     "name": "stdout",
     "output_type": "stream",
     "text": [
      "[2 8]\n"
     ]
    }
   ],
   "source": [
    "# Testing np.where function\n",
    "test_array = np.array([1, 2, 39, 9, 4, 9, 5, 6, 39, 7, 8, 9])\n",
    "result = np.where(test_array == test_array[np.argmax(test_array)])\n",
    "print(result[0])\n"
   ]
  },
  {
   "cell_type": "code",
   "execution_count": 6,
   "metadata": {},
   "outputs": [
    {
     "name": "stdout",
     "output_type": "stream",
     "text": [
      "10\n"
     ]
    }
   ],
   "source": [
    "# Testing random choice of 1 element in an array\n",
    "array = np.array([10])\n",
    "choice = np.random.choice(array)\n",
    "print(choice)"
   ]
  }
 ],
 "metadata": {
  "interpreter": {
   "hash": "217d971282f67be6b88c60176e8bd969c7bd8845b394adb391f458393dd96ab4"
  },
  "kernelspec": {
   "display_name": "Python 3.10.4 ('.venv': venv)",
   "language": "python",
   "name": "python3"
  },
  "language_info": {
   "codemirror_mode": {
    "name": "ipython",
    "version": 3
   },
   "file_extension": ".py",
   "mimetype": "text/x-python",
   "name": "python",
   "nbconvert_exporter": "python",
   "pygments_lexer": "ipython3",
   "version": "3.10.4"
  },
  "orig_nbformat": 4
 },
 "nbformat": 4,
 "nbformat_minor": 2
}
